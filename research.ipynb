{
 "cells": [
  {
   "cell_type": "markdown",
   "source": [
    "## Импорт библиотек"
   ],
   "metadata": {
    "collapsed": false
   }
  },
  {
   "cell_type": "code",
   "execution_count": 2,
   "outputs": [],
   "source": [
    "import numpy as np\n",
    "import matplotlib.pyplot as plt\n",
    "\n",
    "from nn_2_layer import NeuralNetwork\n",
    "from nn_3_layer import NeuralNetworkExt\n",
    "\n",
    "from FitPred import fit, predict, result"
   ],
   "metadata": {
    "collapsed": false,
    "pycharm": {
     "name": "#%%\n"
    }
   }
  },
  {
   "cell_type": "markdown",
   "source": [
    "## Импорт данных"
   ],
   "metadata": {
    "collapsed": false
   }
  },
  {
   "cell_type": "code",
   "execution_count": 1,
   "outputs": [],
   "source": [
    "# загрузка файла с датасетом рукописных чисел - тренировочный датасет\n",
    "with open('mnist_dataset/mnist_train.csv', 'r') as file:\n",
    "    data_train = file.readlines()\n",
    "\n",
    "# загрудка тестового набора данных\n",
    "with open('mnist_dataset/mnist_test.csv', 'r') as file:\n",
    "    data_test = file.readlines()"
   ],
   "metadata": {
    "collapsed": false,
    "pycharm": {
     "name": "#%%\n"
    }
   }
  },
  {
   "cell_type": "markdown",
   "source": [
    "## Двухслойная (один скрытый слой) нейронная сеть"
   ],
   "metadata": {
    "collapsed": false,
    "pycharm": {
     "name": "#%% md\n"
    }
   }
  },
  {
   "cell_type": "code",
   "execution_count": 6,
   "outputs": [
    {
     "name": "stderr",
     "output_type": "stream",
     "text": [
      "Эпоха 1: 100%|██████████| 60000/60000 [01:32<00:00, 646.58it/s]\n",
      "Обработка тестовых данных: 100%|██████████| 10000/10000 [00:01<00:00, 7865.11it/s]\n",
      "Эпоха 1: 100%|██████████| 60000/60000 [01:33<00:00, 642.07it/s]\n",
      "Обработка тестовых данных: 100%|██████████| 10000/10000 [00:01<00:00, 7750.50it/s]\n",
      "Эпоха 1: 100%|██████████| 60000/60000 [01:35<00:00, 631.42it/s]\n",
      "Обработка тестовых данных: 100%|██████████| 10000/10000 [00:01<00:00, 7765.25it/s]\n",
      "Эпоха 1: 100%|██████████| 60000/60000 [01:38<00:00, 607.91it/s]\n",
      "Обработка тестовых данных: 100%|██████████| 10000/10000 [00:01<00:00, 7482.51it/s]\n",
      "Эпоха 1: 100%|██████████| 60000/60000 [01:44<00:00, 575.69it/s]\n",
      "Обработка тестовых данных: 100%|██████████| 10000/10000 [00:01<00:00, 7257.83it/s]\n",
      "Эпоха 1: 100%|██████████| 60000/60000 [01:51<00:00, 540.18it/s]\n",
      "Обработка тестовых данных: 100%|██████████| 10000/10000 [00:01<00:00, 7024.55it/s]\n",
      "Эпоха 1: 100%|██████████| 60000/60000 [01:51<00:00, 539.83it/s]\n",
      "Обработка тестовых данных: 100%|██████████| 10000/10000 [00:01<00:00, 7110.67it/s]\n",
      "Эпоха 1: 100%|██████████| 60000/60000 [02:12<00:00, 453.84it/s]\n",
      "Обработка тестовых данных: 100%|██████████| 10000/10000 [00:01<00:00, 7063.12it/s]\n",
      "Эпоха 1: 100%|██████████| 60000/60000 [02:00<00:00, 497.42it/s]\n",
      "Обработка тестовых данных: 100%|██████████| 10000/10000 [00:01<00:00, 6768.25it/s]\n",
      "Эпоха 1: 100%|██████████| 60000/60000 [02:07<00:00, 472.12it/s]\n",
      "Обработка тестовых данных: 100%|██████████| 10000/10000 [00:01<00:00, 5616.60it/s]\n",
      "Эпоха 1: 100%|██████████| 60000/60000 [02:14<00:00, 445.62it/s]\n",
      "Обработка тестовых данных: 100%|██████████| 10000/10000 [00:01<00:00, 6651.66it/s]\n",
      "Эпоха 1: 100%|██████████| 60000/60000 [02:43<00:00, 366.08it/s]\n",
      "Обработка тестовых данных: 100%|██████████| 10000/10000 [00:01<00:00, 6028.03it/s]\n",
      "Эпоха 1: 100%|██████████| 60000/60000 [02:50<00:00, 351.69it/s]\n",
      "Обработка тестовых данных: 100%|██████████| 10000/10000 [00:01<00:00, 6108.70it/s]\n",
      "Эпоха 1: 100%|██████████| 60000/60000 [02:30<00:00, 398.70it/s]\n",
      "Обработка тестовых данных: 100%|██████████| 10000/10000 [00:01<00:00, 5933.62it/s]\n",
      "Эпоха 1: 100%|██████████| 60000/60000 [03:04<00:00, 325.47it/s]\n",
      "Обработка тестовых данных: 100%|██████████| 10000/10000 [00:01<00:00, 5570.33it/s]\n",
      "Эпоха 1: 100%|██████████| 60000/60000 [02:52<00:00, 347.56it/s]\n",
      "Обработка тестовых данных: 100%|██████████| 10000/10000 [00:01<00:00, 5475.44it/s]\n",
      "Эпоха 1: 100%|██████████| 60000/60000 [02:46<00:00, 361.29it/s]\n",
      "Обработка тестовых данных: 100%|██████████| 10000/10000 [00:01<00:00, 5133.94it/s]\n",
      "Эпоха 1: 100%|██████████| 60000/60000 [03:48<00:00, 262.82it/s]\n",
      "Обработка тестовых данных: 100%|██████████| 10000/10000 [00:02<00:00, 4515.26it/s]\n",
      "Эпоха 1: 100%|██████████| 60000/60000 [03:38<00:00, 275.16it/s]\n",
      "Обработка тестовых данных: 100%|██████████| 10000/10000 [00:02<00:00, 4729.19it/s]\n"
     ]
    },
    {
     "name": "stdout",
     "output_type": "stream",
     "text": [
      "количество скрытых узлов: 50\n",
      "Обучение...\n",
      "Клсссификация...\n",
      "эффективность (ошибка): 0.9379 (6.21%)\n",
      "количество скрытых узлов: 100\n",
      "Обучение...\n",
      "Клсссификация...\n",
      "эффективность (ошибка): 0.9512 (4.88%)\n",
      "количество скрытых узлов: 150\n",
      "Обучение...\n",
      "Клсссификация...\n",
      "эффективность (ошибка): 0.9566 (4.34%)\n",
      "количество скрытых узлов: 200\n",
      "Обучение...\n",
      "Клсссификация...\n",
      "эффективность (ошибка): 0.9595 (4.05%)\n",
      "количество скрытых узлов: 250\n",
      "Обучение...\n",
      "Клсссификация...\n",
      "эффективность (ошибка): 0.9604 (3.96%)\n",
      "количество скрытых узлов: 300\n",
      "Обучение...\n",
      "Клсссификация...\n",
      "эффективность (ошибка): 0.9597 (4.03%)\n",
      "количество скрытых узлов: 350\n",
      "Обучение...\n",
      "Клсссификация...\n",
      "эффективность (ошибка): 0.9608 (3.92%)\n",
      "количество скрытых узлов: 400\n",
      "Обучение...\n",
      "Клсссификация...\n",
      "эффективность (ошибка): 0.957 (4.3%)\n",
      "количество скрытых узлов: 450\n",
      "Обучение...\n",
      "Клсссификация...\n",
      "эффективность (ошибка): 0.959 (4.1%)\n",
      "количество скрытых узлов: 500\n",
      "Обучение...\n",
      "Клсссификация...\n",
      "эффективность (ошибка): 0.9586 (4.14%)\n",
      "количество скрытых узлов: 550\n",
      "Обучение...\n",
      "Клсссификация...\n",
      "эффективность (ошибка): 0.9587 (4.13%)\n",
      "количество скрытых узлов: 600\n",
      "Обучение...\n",
      "Клсссификация...\n",
      "эффективность (ошибка): 0.9637 (3.63%)\n",
      "количество скрытых узлов: 650\n",
      "Обучение...\n",
      "Клсссификация...\n",
      "эффективность (ошибка): 0.9605 (3.95%)\n",
      "количество скрытых узлов: 700\n",
      "Обучение...\n",
      "Клсссификация...\n",
      "эффективность (ошибка): 0.9588 (4.12%)\n",
      "количество скрытых узлов: 750\n",
      "Обучение...\n",
      "Клсссификация...\n",
      "эффективность (ошибка): 0.9616 (3.84%)\n",
      "количество скрытых узлов: 800\n",
      "Обучение...\n",
      "Клсссификация...\n",
      "эффективность (ошибка): 0.9617 (3.83%)\n",
      "количество скрытых узлов: 850\n",
      "Обучение...\n",
      "Клсссификация...\n",
      "эффективность (ошибка): 0.9583 (4.17%)\n",
      "количество скрытых узлов: 900\n",
      "Обучение...\n",
      "Клсссификация...\n",
      "эффективность (ошибка): 0.9615 (3.85%)\n",
      "количество скрытых узлов: 950\n",
      "Обучение...\n",
      "Клсссификация...\n",
      "эффективность (ошибка): 0.9595 (4.05%)\n"
     ]
    }
   ],
   "source": [
    "# количество входных, скрытых и выходных узлов\n",
    "input_nodes = 784\n",
    "hidden_nodes = np.arange(50,1000, 50)\n",
    "output_nodes = 10\n",
    "# коэффициент обучения\n",
    "learning_rate = 0.1\n",
    "# количество эпох\n",
    "epochs = 1\n",
    "\n",
    "# списко для записи результатов\n",
    "results = []\n",
    "\n",
    "for i in hidden_nodes:\n",
    "    print(f\"количество скрытых узлов: {i}\")\n",
    "    # экземпляр нейронной сети\n",
    "    n = NeuralNetwork(input_nodes, i, output_nodes, learning_rate)\n",
    "    # обучение нейросети\n",
    "    fit(epochs=epochs, network=n, train=data_train, out_nodes=output_nodes)\n",
    "    # прогнозирование\n",
    "    scorecard = predict(network=n, test = data_test)\n",
    "    # вывод результата\n",
    "    res = result(scorecard)\n",
    "    results.append(res)\n",
    "    "
   ],
   "metadata": {
    "collapsed": false,
    "pycharm": {
     "name": "#%%\n"
    }
   }
  },
  {
   "cell_type": "code",
   "execution_count": 7,
   "outputs": [
    {
     "data": {
      "text/plain": "[<matplotlib.lines.Line2D at 0x7fa829846640>]"
     },
     "execution_count": 7,
     "metadata": {},
     "output_type": "execute_result"
    },
    {
     "data": {
      "text/plain": "<Figure size 432x288 with 1 Axes>",
      "image/png": "[encoded data removed]"
     },
     "metadata": {
      "needs_background": "light"
     },
     "output_type": "display_data"
    }
   ],
   "source": [
    "plt.plot(hidden_nodes, results)"
   ],
   "metadata": {
    "collapsed": false,
    "pycharm": {
     "name": "#%%\n"
    }
   }
  },
  {
   "cell_type": "code",
   "execution_count": 12,
   "outputs": [
    {
     "name": "stderr",
     "output_type": "stream",
     "text": [
      "Эпоха 1: 100%|██████████| 60000/60000 [02:54<00:00, 344.16it/s]\n",
      "Обработка тестовых данных: 100%|██████████| 10000/10000 [00:01<00:00, 5569.12it/s]\n"
     ]
    },
    {
     "name": "stdout",
     "output_type": "stream",
     "text": [
      "сокрость ообучения: 0.1\n",
      "Обучение...\n",
      "Клсссификация...\n",
      "эффективность (ошибка): 0.961 (3.9%)\n"
     ]
    }
   ],
   "source": [
    "# количество входных, скрытых и выходных узлов\n",
    "input_nodes = 784\n",
    "hidden_nodes = 800\n",
    "output_nodes = 10\n",
    "# коэффициент обучения\n",
    "learning_rate = [0.1, 0.2, 0.3]\n",
    "# количество эпох\n",
    "epochs = 1\n",
    "\n",
    "# списко для записи результатов\n",
    "results = []\n",
    "\n",
    "for i in learning_rate:\n",
    "    print(f\"сокрость ообучения: {i}\")\n",
    "    # экземпляр нейронной сети\n",
    "    n = NeuralNetwork(input_nodes, hidden_nodes, output_nodes, i)\n",
    "    # обучение нейросети\n",
    "    fit(epochs=epochs, network=n, train=data_train, out_nodes=output_nodes)\n",
    "    # прогнозирование\n",
    "    scorecard = predict(network=n, test = data_test)\n",
    "    # вывод результата\n",
    "    res = result(scorecard)\n",
    "    results.append(res)"
   ],
   "metadata": {
    "collapsed": false,
    "pycharm": {
     "name": "#%%\n"
    }
   }
  },
  {
   "cell_type": "code",
   "execution_count": null,
   "outputs": [],
   "source": [
    "plt.plot(learning_rate, results)"
   ],
   "metadata": {
    "collapsed": false,
    "pycharm": {
     "name": "#%%\n"
    }
   }
  },
  {
   "cell_type": "code",
   "execution_count": 13,
   "outputs": [
    {
     "name": "stderr",
     "output_type": "stream",
     "text": [
      "Эпоха 1: 100%|██████████| 60000/60000 [02:46<00:00, 359.92it/s]\n",
      "Обработка тестовых данных: 100%|██████████| 10000/10000 [00:01<00:00, 5464.07it/s]\n",
      "Эпоха 1: 100%|██████████| 60000/60000 [02:39<00:00, 376.09it/s]\n",
      "Эпоха 2: 100%|██████████| 60000/60000 [02:39<00:00, 375.27it/s]\n",
      "Эпоха 3: 100%|██████████| 60000/60000 [02:40<00:00, 373.68it/s]\n",
      "Обработка тестовых данных: 100%|██████████| 10000/10000 [00:02<00:00, 4729.97it/s]\n",
      "Эпоха 1: 100%|██████████| 60000/60000 [02:40<00:00, 374.50it/s]\n",
      "Эпоха 2: 100%|██████████| 60000/60000 [02:40<00:00, 374.06it/s]\n",
      "Эпоха 3: 100%|██████████| 60000/60000 [02:39<00:00, 375.99it/s]\n",
      "Эпоха 4: 100%|██████████| 60000/60000 [02:42<00:00, 369.02it/s]\n",
      "Эпоха 5: 100%|██████████| 60000/60000 [02:40<00:00, 374.65it/s]\n",
      "Обработка тестовых данных: 100%|██████████| 10000/10000 [00:01<00:00, 5396.57it/s]\n",
      "Эпоха 1: 100%|██████████| 60000/60000 [02:39<00:00, 376.78it/s]\n",
      "Эпоха 2: 100%|██████████| 60000/60000 [02:39<00:00, 377.19it/s]\n",
      "Эпоха 3: 100%|██████████| 60000/60000 [02:41<00:00, 372.29it/s]\n",
      "Эпоха 4: 100%|██████████| 60000/60000 [02:39<00:00, 376.91it/s]\n",
      "Эпоха 5: 100%|██████████| 60000/60000 [02:39<00:00, 376.31it/s]\n",
      "Эпоха 6: 100%|██████████| 60000/60000 [02:39<00:00, 376.45it/s]\n",
      "Эпоха 7: 100%|██████████| 60000/60000 [02:42<00:00, 369.15it/s]\n",
      "Обработка тестовых данных: 100%|██████████| 10000/10000 [00:01<00:00, 5390.27it/s]\n",
      "Эпоха 1: 100%|██████████| 60000/60000 [02:39<00:00, 375.63it/s]\n",
      "Эпоха 2: 100%|██████████| 60000/60000 [02:39<00:00, 375.76it/s]\n",
      "Эпоха 3: 100%|██████████| 60000/60000 [02:40<00:00, 374.68it/s]\n",
      "Эпоха 4: 100%|██████████| 60000/60000 [02:40<00:00, 373.96it/s]\n",
      "Эпоха 5: 100%|██████████| 60000/60000 [02:39<00:00, 375.50it/s]\n",
      "Эпоха 6: 100%|██████████| 60000/60000 [02:39<00:00, 376.25it/s]\n",
      "Эпоха 7: 100%|██████████| 60000/60000 [02:41<00:00, 372.04it/s]\n",
      "Эпоха 8: 100%|██████████| 60000/60000 [02:39<00:00, 375.63it/s]\n",
      "Эпоха 9: 100%|██████████| 60000/60000 [02:40<00:00, 374.62it/s]\n",
      "Обработка тестовых данных: 100%|██████████| 10000/10000 [00:01<00:00, 5280.15it/s]\n"
     ]
    },
    {
     "name": "stdout",
     "output_type": "stream",
     "text": [
      "количество эпох: 1\n",
      "Обучение...\n",
      "Клсссификация...\n",
      "эффективность (ошибка): 0.9596 (4.04%)\n",
      "количество эпох: 3\n",
      "Обучение...\n",
      "Клсссификация...\n",
      "эффективность (ошибка): 0.9715 (2.85%)\n",
      "количество эпох: 5\n",
      "Обучение...\n",
      "Клсссификация...\n",
      "эффективность (ошибка): 0.9746 (2.54%)\n",
      "количество эпох: 7\n",
      "Обучение...\n",
      "Клсссификация...\n",
      "эффективность (ошибка): 0.9769 (2.31%)\n",
      "количество эпох: 9\n",
      "Обучение...\n",
      "Клсссификация...\n",
      "эффективность (ошибка): 0.9747 (2.53%)\n"
     ]
    }
   ],
   "source": [
    "# количество входных, скрытых и выходных узлов\n",
    "input_nodes = 784\n",
    "hidden_nodes = 800\n",
    "output_nodes = 10\n",
    "# коэффициент обучения\n",
    "learning_rate = 0.1\n",
    "# количество эпох\n",
    "epochs = [1, 3, 5, 7, 9]\n",
    "\n",
    "# списко для записи результатов\n",
    "results = []\n",
    "\n",
    "for i in epochs:\n",
    "    print(f\"количество эпох: {i}\")\n",
    "    # экземпляр нейронной сети\n",
    "    n = NeuralNetwork(input_nodes, hidden_nodes, output_nodes, learning_rate)\n",
    "    # обучение нейросети\n",
    "    fit(epochs=i, network=n, train=data_train, out_nodes=output_nodes)\n",
    "    # прогнозирование\n",
    "    scorecard = predict(network=n, test = data_test)\n",
    "    # вывод результата\n",
    "    res = result(scorecard)\n",
    "    results.append(res)"
   ],
   "metadata": {
    "collapsed": false,
    "pycharm": {
     "name": "#%%\n"
    }
   }
  },
  {
   "cell_type": "code",
   "execution_count": 14,
   "outputs": [
    {
     "data": {
      "text/plain": "[<matplotlib.lines.Line2D at 0x7fa82a014250>]"
     },
     "execution_count": 14,
     "metadata": {},
     "output_type": "execute_result"
    },
    {
     "data": {
      "text/plain": "<Figure size 432x288 with 1 Axes>",
      "image/png": "[encoded data removed]"
     },
     "metadata": {
      "needs_background": "light"
     },
     "output_type": "display_data"
    }
   ],
   "source": [
    "plt.plot(epochs, results)"
   ],
   "metadata": {
    "collapsed": false,
    "pycharm": {
     "name": "#%%\n"
    }
   }
  },
  {
   "cell_type": "markdown",
   "source": [
    "## С учетом предобрабоки данных: выравнивание рукописных цифр"
   ],
   "metadata": {
    "collapsed": false
   }
  },
  {
   "cell_type": "code",
   "execution_count": 15,
   "outputs": [
    {
     "name": "stderr",
     "output_type": "stream",
     "text": [
      "Эпоха 1: 100%|██████████| 60000/60000 [03:18<00:00, 302.85it/s]\n",
      "Эпоха 2: 100%|██████████| 60000/60000 [03:16<00:00, 305.58it/s]\n",
      "Эпоха 3: 100%|██████████| 60000/60000 [03:17<00:00, 303.10it/s]\n",
      "Эпоха 4: 100%|██████████| 60000/60000 [03:16<00:00, 305.73it/s]\n",
      "Эпоха 5: 100%|██████████| 60000/60000 [03:18<00:00, 302.52it/s]\n",
      "Эпоха 6: 100%|██████████| 60000/60000 [03:28<00:00, 288.46it/s]\n",
      "Эпоха 7: 100%|██████████| 60000/60000 [03:25<00:00, 292.17it/s]\n",
      "Обработка тестовых данных: 100%|██████████| 10000/10000 [00:05<00:00, 1810.42it/s]\n"
     ]
    },
    {
     "name": "stdout",
     "output_type": "stream",
     "text": [
      "Обучение...\n",
      "Клсссификация...\n",
      "эффективность (ошибка): 0.9824 (1.76%)\n"
     ]
    },
    {
     "data": {
      "text/plain": "0.9824"
     },
     "execution_count": 15,
     "metadata": {},
     "output_type": "execute_result"
    }
   ],
   "source": [
    "# количество входных, скрытых и выходных узлов\n",
    "input_nodes = 784\n",
    "hidden_nodes = 800\n",
    "output_nodes = 10\n",
    "# коэффициент обучения\n",
    "learning_rate = 0.1\n",
    "# экземпляр нейронной сети\n",
    "n2 = NeuralNetwork(input_nodes, hidden_nodes, output_nodes, learning_rate)\n",
    "# обучение нейросети\n",
    "fit(epochs=7, network=n2, train=data_train, out_nodes=output_nodes, deskew_dat=True)\n",
    "# прогнозирование\n",
    "scorecard2 = predict(network=n2, test=data_test, deskew_dat=True)\n",
    "# вывод результата\n",
    "result(scorecard2)"
   ],
   "metadata": {
    "collapsed": false,
    "pycharm": {
     "name": "#%%\n"
    }
   }
  },
  {
   "cell_type": "code",
   "execution_count": 16,
   "outputs": [
    {
     "name": "stderr",
     "output_type": "stream",
     "text": [
      "Эпоха 1: 100%|██████████| 60000/60000 [04:23<00:00, 228.09it/s]\n",
      "Эпоха 2: 100%|██████████| 60000/60000 [04:01<00:00, 248.25it/s]\n",
      "Эпоха 3: 100%|██████████| 60000/60000 [04:07<00:00, 242.29it/s]\n",
      "Эпоха 4: 100%|██████████| 60000/60000 [04:04<00:00, 245.12it/s]\n",
      "Эпоха 5: 100%|██████████| 60000/60000 [03:53<00:00, 256.57it/s]\n",
      "Эпоха 6: 100%|██████████| 60000/60000 [03:55<00:00, 254.51it/s]\n",
      "Эпоха 7: 100%|██████████| 60000/60000 [03:53<00:00, 256.75it/s]\n",
      "Обработка тестовых данных: 100%|██████████| 10000/10000 [00:11<00:00, 860.63it/s]\n"
     ]
    },
    {
     "name": "stdout",
     "output_type": "stream",
     "text": [
      "Обучение...\n",
      "Клсссификация...\n",
      "эффективность (ошибка): 0.9624 (3.76%)\n"
     ]
    },
    {
     "data": {
      "text/plain": "0.9624"
     },
     "execution_count": 16,
     "metadata": {},
     "output_type": "execute_result"
    }
   ],
   "source": [
    "# количество входных, скрытых и выходных узлов\n",
    "input_nodes = 784\n",
    "hidden_nodes = 800\n",
    "output_nodes = 10\n",
    "# коэффициент обучения\n",
    "learning_rate = 0.1\n",
    "# экземпляр нейронной сети\n",
    "n3 = NeuralNetwork(input_nodes, hidden_nodes, output_nodes, learning_rate)\n",
    "# обучение нейросети\n",
    "fit(epochs=7, network=n3, train=data_train, out_nodes=output_nodes, deskew_dat=True, elastic=(36, 6))\n",
    "# прогнозирование\n",
    "scorecard3 = predict(network=n3, test=data_test, deskew_dat=True, elastic=(36, 6))\n",
    "# вывод результата\n",
    "result(scorecard3)"
   ],
   "metadata": {
    "collapsed": false,
    "pycharm": {
     "name": "#%%\n"
    }
   }
  },
  {
   "cell_type": "code",
   "execution_count": 17,
   "outputs": [
    {
     "name": "stderr",
     "output_type": "stream",
     "text": [
      "Эпоха 1: 100%|██████████| 60000/60000 [03:52<00:00, 257.91it/s]\n",
      "Эпоха 2: 100%|██████████| 60000/60000 [03:55<00:00, 254.57it/s]\n",
      "Эпоха 3: 100%|██████████| 60000/60000 [03:51<00:00, 259.16it/s]\n",
      "Эпоха 4: 100%|██████████| 60000/60000 [03:52<00:00, 257.53it/s]\n",
      "Эпоха 5: 100%|██████████| 60000/60000 [03:51<00:00, 259.70it/s]\n",
      "Эпоха 6: 100%|██████████| 60000/60000 [03:50<00:00, 259.97it/s]\n",
      "Эпоха 7: 100%|██████████| 60000/60000 [03:55<00:00, 254.44it/s]\n",
      "Обработка тестовых данных: 100%|██████████| 10000/10000 [00:12<00:00, 796.39it/s]\n"
     ]
    },
    {
     "name": "stdout",
     "output_type": "stream",
     "text": [
      "Обучение...\n",
      "Клсссификация...\n",
      "эффективность (ошибка): 0.9656 (3.44%)\n"
     ]
    },
    {
     "data": {
      "text/plain": "0.9656"
     },
     "execution_count": 17,
     "metadata": {},
     "output_type": "execute_result"
    }
   ],
   "source": [
    "# количество входных, скрытых и выходных узлов\n",
    "input_nodes = 784\n",
    "hidden_nodes = 800\n",
    "output_nodes = 10\n",
    "# коэффициент обучения\n",
    "learning_rate = 0.1\n",
    "# экземпляр нейронной сети\n",
    "n4 = NeuralNetwork(input_nodes, hidden_nodes, output_nodes, learning_rate)\n",
    "# обучение нейросети\n",
    "fit(epochs=7, network=n4, train=data_train, out_nodes=output_nodes, deskew_dat=True, elastic=(8, 4))\n",
    "# прогнозирование\n",
    "scorecard4 = predict(network=n4, test=data_test, deskew_dat=True, elastic=(8, 4))\n",
    "# вывод результата\n",
    "result(scorecard4)"
   ],
   "metadata": {
    "collapsed": false,
    "pycharm": {
     "name": "#%%\n"
    }
   }
  },
  {
   "cell_type": "markdown",
   "source": [
    "## Задание параметров  трехслойной (один скрытый слой) нейронной сети"
   ],
   "metadata": {
    "collapsed": false,
    "pycharm": {
     "name": "#%% md\n"
    }
   }
  },
  {
   "cell_type": "code",
   "execution_count": 7,
   "outputs": [
    {
     "name": "stderr",
     "output_type": "stream",
     "text": [
      "Эпоха 1: 100%|██████████| 60000/60000 [03:19<00:00, 300.21it/s]\n",
      "Эпоха 2: 100%|██████████| 60000/60000 [03:10<00:00, 314.25it/s]\n",
      "Обработка тестовых данных: 100%|██████████| 10000/10000 [00:05<00:00, 1940.01it/s]\n"
     ]
    },
    {
     "name": "stdout",
     "output_type": "stream",
     "text": [
      "Обучение...\n",
      "Клсссификация...\n",
      "эффективность (ошибка): 0.9736 (2.64%)\n"
     ]
    },
    {
     "data": {
      "text/plain": "0.9736"
     },
     "execution_count": 7,
     "metadata": {},
     "output_type": "execute_result"
    }
   ],
   "source": [
    "# количество входных, скрытых и выходных узлов\n",
    "input_nodes = 784\n",
    "hidden_nodes1 = 500\n",
    "hidden_nodes2 = 300\n",
    "output_nodes = 10\n",
    "# коэффициент обучения\n",
    "learning_rate = 0.05\n",
    "# экземпляр нейронной сети\n",
    "n5 = NeuralNetworkExt(input_nodes, hidden_nodes1, hidden_nodes2, output_nodes, learning_rate)\n",
    "# обучение нейросети\n",
    "fit(epochs=2, network=n5, train=data_train, out_nodes=output_nodes, deskew_dat=True)\n",
    "# прогнозирование\n",
    "scorecard5 = predict(network=n5, test=data_test, deskew_dat=True)\n",
    "# вывод результата\n",
    "result(scorecard5)"
   ],
   "metadata": {
    "collapsed": false,
    "pycharm": {
     "name": "#%%\n"
    }
   }
  },
  {
   "cell_type": "code",
   "execution_count": null,
   "outputs": [],
   "source": [],
   "metadata": {
    "collapsed": false,
    "pycharm": {
     "name": "#%%\n"
    }
   }
  }
 ],
 "metadata": {
  "kernelspec": {
   "display_name": "Python 3",
   "language": "python",
   "name": "python3"
  },
  "language_info": {
   "codemirror_mode": {
    "name": "ipython",
    "version": 2
   },
   "file_extension": ".py",
   "mimetype": "text/x-python",
   "name": "python",
   "nbconvert_exporter": "python",
   "pygments_lexer": "ipython2",
   "version": "2.7.6"
  }
 },
 "nbformat": 4,
 "nbformat_minor": 0
}